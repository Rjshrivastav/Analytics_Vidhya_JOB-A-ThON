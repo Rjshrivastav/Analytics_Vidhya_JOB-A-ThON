{
 "cells": [
  {
   "cell_type": "markdown",
   "metadata": {},
   "source": [
    "## Problem Statement\n",
    "\n",
    "### Topic: Health Insurance Lead Prediction"
   ]
  },
  {
   "cell_type": "markdown",
   "metadata": {},
   "source": [
    "Your Client FinMan is a financial services company that provides various financial\n",
    "services like loan, investment funds, insurance etc. to its customers. FinMan wishes to\n",
    "cross-sell health insurance to the existing customers who may or may not hold insurance\n",
    "policies with the company. The company recommend health insurance to it's customers\n",
    "based on their profile once these customers land on the website. Customers might browse the\n",
    "recommended health insurance policy and consequently fill up a form to apply. **When these\n",
    "customers fill-up the form, their Response towards the policy is considered positive\n",
    "and they are classified as a lead.**\n",
    "\n",
    "Once these leads are acquired, the sales advisors approach them to convert and thus the\n",
    "company can sell proposed health insurance to these leads in a more efficient manner. Now the company needs your help in building a model to predict whether the person will\n",
    "be interested in their proposed Health plan/policy given the information about:\n",
    "\n",
    "- Demographics (city, age, region etc.) \n",
    "- Information regarding holding policies of the customer \n",
    "- Recommended Policy Information"
   ]
  },
  {
   "cell_type": "code",
   "execution_count": 1,
   "metadata": {},
   "outputs": [],
   "source": [
    "#loading packages\n",
    "import numpy as np\n",
    "import pandas as pd\n",
    "import matplotlib.pyplot as plt\n",
    "%matplotlib inline\n",
    "import seaborn as sns\n",
    "import warnings\n",
    "warnings.filterwarnings('ignore')\n"
   ]
  },
  {
   "cell_type": "code",
   "execution_count": 2,
   "metadata": {},
   "outputs": [],
   "source": [
    "#Reading data\n",
    "train = pd.read_csv(r'C:\\Users\\Ranjeet shrivastav\\Videos\\ML_algorithms\\Health Insurance Lead Prediction\\train.csv')\n",
    "test = pd.read_csv(r'C:\\Users\\Ranjeet shrivastav\\Videos\\ML_algorithms\\Health Insurance Lead Prediction\\test.csv')"
   ]
  },
  {
   "cell_type": "code",
   "execution_count": 3,
   "metadata": {},
   "outputs": [
    {
     "data": {
      "text/plain": [
       "((50882, 14), (21805, 13))"
      ]
     },
     "execution_count": 3,
     "metadata": {},
     "output_type": "execute_result"
    }
   ],
   "source": [
    "train.shape, test.shape"
   ]
  },
  {
   "cell_type": "code",
   "execution_count": 4,
   "metadata": {},
   "outputs": [
    {
     "data": {
      "text/html": [
       "<div>\n",
       "<style scoped>\n",
       "    .dataframe tbody tr th:only-of-type {\n",
       "        vertical-align: middle;\n",
       "    }\n",
       "\n",
       "    .dataframe tbody tr th {\n",
       "        vertical-align: top;\n",
       "    }\n",
       "\n",
       "    .dataframe thead th {\n",
       "        text-align: right;\n",
       "    }\n",
       "</style>\n",
       "<table border=\"1\" class=\"dataframe\">\n",
       "  <thead>\n",
       "    <tr style=\"text-align: right;\">\n",
       "      <th></th>\n",
       "      <th>ID</th>\n",
       "      <th>City_Code</th>\n",
       "      <th>Region_Code</th>\n",
       "      <th>Accomodation_Type</th>\n",
       "      <th>Reco_Insurance_Type</th>\n",
       "      <th>Upper_Age</th>\n",
       "      <th>Lower_Age</th>\n",
       "      <th>Is_Spouse</th>\n",
       "      <th>Health Indicator</th>\n",
       "      <th>Holding_Policy_Duration</th>\n",
       "      <th>Holding_Policy_Type</th>\n",
       "      <th>Reco_Policy_Cat</th>\n",
       "      <th>Reco_Policy_Premium</th>\n",
       "      <th>Response</th>\n",
       "    </tr>\n",
       "  </thead>\n",
       "  <tbody>\n",
       "    <tr>\n",
       "      <td>0</td>\n",
       "      <td>1</td>\n",
       "      <td>C3</td>\n",
       "      <td>3213</td>\n",
       "      <td>Rented</td>\n",
       "      <td>Individual</td>\n",
       "      <td>36</td>\n",
       "      <td>36</td>\n",
       "      <td>No</td>\n",
       "      <td>X1</td>\n",
       "      <td>14+</td>\n",
       "      <td>3.0</td>\n",
       "      <td>22</td>\n",
       "      <td>11628.0</td>\n",
       "      <td>0</td>\n",
       "    </tr>\n",
       "    <tr>\n",
       "      <td>1</td>\n",
       "      <td>2</td>\n",
       "      <td>C5</td>\n",
       "      <td>1117</td>\n",
       "      <td>Owned</td>\n",
       "      <td>Joint</td>\n",
       "      <td>75</td>\n",
       "      <td>22</td>\n",
       "      <td>No</td>\n",
       "      <td>X2</td>\n",
       "      <td>NaN</td>\n",
       "      <td>NaN</td>\n",
       "      <td>22</td>\n",
       "      <td>30510.0</td>\n",
       "      <td>0</td>\n",
       "    </tr>\n",
       "  </tbody>\n",
       "</table>\n",
       "</div>"
      ],
      "text/plain": [
       "   ID City_Code  Region_Code Accomodation_Type Reco_Insurance_Type  Upper_Age  \\\n",
       "0   1        C3         3213            Rented          Individual         36   \n",
       "1   2        C5         1117             Owned               Joint         75   \n",
       "\n",
       "   Lower_Age Is_Spouse Health Indicator Holding_Policy_Duration  \\\n",
       "0         36        No               X1                     14+   \n",
       "1         22        No               X2                     NaN   \n",
       "\n",
       "   Holding_Policy_Type  Reco_Policy_Cat  Reco_Policy_Premium  Response  \n",
       "0                  3.0               22              11628.0         0  \n",
       "1                  NaN               22              30510.0         0  "
      ]
     },
     "execution_count": 4,
     "metadata": {},
     "output_type": "execute_result"
    }
   ],
   "source": [
    "train.head(2)"
   ]
  },
  {
   "cell_type": "markdown",
   "metadata": {},
   "source": [
    "Its generally a good idea to combine both train and test data sets into one, perform feature engineering and then divide them later again. This saves the trouble of performing the same steps twice on test and train. Lets combine them into a dataframe ‘data’ with a ‘source’ column specifying where each observation belongs."
   ]
  },
  {
   "cell_type": "code",
   "execution_count": 5,
   "metadata": {},
   "outputs": [],
   "source": [
    "train['source'] = 'train'\n",
    "test['source'] = 'test'\n",
    "data = pd.concat([train,test],ignore_index = True)"
   ]
  },
  {
   "cell_type": "code",
   "execution_count": 6,
   "metadata": {},
   "outputs": [
    {
     "data": {
      "text/html": [
       "<div>\n",
       "<style scoped>\n",
       "    .dataframe tbody tr th:only-of-type {\n",
       "        vertical-align: middle;\n",
       "    }\n",
       "\n",
       "    .dataframe tbody tr th {\n",
       "        vertical-align: top;\n",
       "    }\n",
       "\n",
       "    .dataframe thead th {\n",
       "        text-align: right;\n",
       "    }\n",
       "</style>\n",
       "<table border=\"1\" class=\"dataframe\">\n",
       "  <thead>\n",
       "    <tr style=\"text-align: right;\">\n",
       "      <th></th>\n",
       "      <th>Accomodation_Type</th>\n",
       "      <th>City_Code</th>\n",
       "      <th>Health Indicator</th>\n",
       "      <th>Holding_Policy_Duration</th>\n",
       "      <th>Holding_Policy_Type</th>\n",
       "      <th>ID</th>\n",
       "      <th>Is_Spouse</th>\n",
       "      <th>Lower_Age</th>\n",
       "      <th>Reco_Insurance_Type</th>\n",
       "      <th>Reco_Policy_Cat</th>\n",
       "      <th>Reco_Policy_Premium</th>\n",
       "      <th>Region_Code</th>\n",
       "      <th>Response</th>\n",
       "      <th>Upper_Age</th>\n",
       "      <th>source</th>\n",
       "    </tr>\n",
       "  </thead>\n",
       "  <tbody>\n",
       "    <tr>\n",
       "      <td>0</td>\n",
       "      <td>Rented</td>\n",
       "      <td>C3</td>\n",
       "      <td>X1</td>\n",
       "      <td>14+</td>\n",
       "      <td>3.0</td>\n",
       "      <td>1</td>\n",
       "      <td>No</td>\n",
       "      <td>36</td>\n",
       "      <td>Individual</td>\n",
       "      <td>22</td>\n",
       "      <td>11628.0</td>\n",
       "      <td>3213</td>\n",
       "      <td>0.0</td>\n",
       "      <td>36</td>\n",
       "      <td>train</td>\n",
       "    </tr>\n",
       "    <tr>\n",
       "      <td>1</td>\n",
       "      <td>Owned</td>\n",
       "      <td>C5</td>\n",
       "      <td>X2</td>\n",
       "      <td>NaN</td>\n",
       "      <td>NaN</td>\n",
       "      <td>2</td>\n",
       "      <td>No</td>\n",
       "      <td>22</td>\n",
       "      <td>Joint</td>\n",
       "      <td>22</td>\n",
       "      <td>30510.0</td>\n",
       "      <td>1117</td>\n",
       "      <td>0.0</td>\n",
       "      <td>75</td>\n",
       "      <td>train</td>\n",
       "    </tr>\n",
       "    <tr>\n",
       "      <td>2</td>\n",
       "      <td>Owned</td>\n",
       "      <td>C5</td>\n",
       "      <td>NaN</td>\n",
       "      <td>1.0</td>\n",
       "      <td>1.0</td>\n",
       "      <td>3</td>\n",
       "      <td>No</td>\n",
       "      <td>32</td>\n",
       "      <td>Individual</td>\n",
       "      <td>19</td>\n",
       "      <td>7450.0</td>\n",
       "      <td>3732</td>\n",
       "      <td>1.0</td>\n",
       "      <td>32</td>\n",
       "      <td>train</td>\n",
       "    </tr>\n",
       "    <tr>\n",
       "      <td>3</td>\n",
       "      <td>Owned</td>\n",
       "      <td>C24</td>\n",
       "      <td>X1</td>\n",
       "      <td>14+</td>\n",
       "      <td>3.0</td>\n",
       "      <td>4</td>\n",
       "      <td>No</td>\n",
       "      <td>48</td>\n",
       "      <td>Joint</td>\n",
       "      <td>19</td>\n",
       "      <td>17780.0</td>\n",
       "      <td>4378</td>\n",
       "      <td>0.0</td>\n",
       "      <td>52</td>\n",
       "      <td>train</td>\n",
       "    </tr>\n",
       "    <tr>\n",
       "      <td>4</td>\n",
       "      <td>Rented</td>\n",
       "      <td>C8</td>\n",
       "      <td>X2</td>\n",
       "      <td>3.0</td>\n",
       "      <td>1.0</td>\n",
       "      <td>5</td>\n",
       "      <td>No</td>\n",
       "      <td>44</td>\n",
       "      <td>Individual</td>\n",
       "      <td>16</td>\n",
       "      <td>10404.0</td>\n",
       "      <td>2190</td>\n",
       "      <td>0.0</td>\n",
       "      <td>44</td>\n",
       "      <td>train</td>\n",
       "    </tr>\n",
       "  </tbody>\n",
       "</table>\n",
       "</div>"
      ],
      "text/plain": [
       "  Accomodation_Type City_Code Health Indicator Holding_Policy_Duration  \\\n",
       "0            Rented        C3               X1                     14+   \n",
       "1             Owned        C5               X2                     NaN   \n",
       "2             Owned        C5              NaN                     1.0   \n",
       "3             Owned       C24               X1                     14+   \n",
       "4            Rented        C8               X2                     3.0   \n",
       "\n",
       "   Holding_Policy_Type  ID Is_Spouse  Lower_Age Reco_Insurance_Type  \\\n",
       "0                  3.0   1        No         36          Individual   \n",
       "1                  NaN   2        No         22               Joint   \n",
       "2                  1.0   3        No         32          Individual   \n",
       "3                  3.0   4        No         48               Joint   \n",
       "4                  1.0   5        No         44          Individual   \n",
       "\n",
       "   Reco_Policy_Cat  Reco_Policy_Premium  Region_Code  Response  Upper_Age  \\\n",
       "0               22              11628.0         3213       0.0         36   \n",
       "1               22              30510.0         1117       0.0         75   \n",
       "2               19               7450.0         3732       1.0         32   \n",
       "3               19              17780.0         4378       0.0         52   \n",
       "4               16              10404.0         2190       0.0         44   \n",
       "\n",
       "  source  \n",
       "0  train  \n",
       "1  train  \n",
       "2  train  \n",
       "3  train  \n",
       "4  train  "
      ]
     },
     "execution_count": 6,
     "metadata": {},
     "output_type": "execute_result"
    }
   ],
   "source": [
    "data.head()"
   ]
  },
  {
   "cell_type": "code",
   "execution_count": 7,
   "metadata": {},
   "outputs": [
    {
     "data": {
      "text/plain": [
       "(72687, 15)"
      ]
     },
     "execution_count": 7,
     "metadata": {},
     "output_type": "execute_result"
    }
   ],
   "source": [
    "data.shape"
   ]
  },
  {
   "cell_type": "code",
   "execution_count": 8,
   "metadata": {},
   "outputs": [
    {
     "data": {
      "text/plain": [
       "Accomodation_Type           object\n",
       "City_Code                   object\n",
       "Health Indicator            object\n",
       "Holding_Policy_Duration     object\n",
       "Holding_Policy_Type        float64\n",
       "ID                           int64\n",
       "Is_Spouse                   object\n",
       "Lower_Age                    int64\n",
       "Reco_Insurance_Type         object\n",
       "Reco_Policy_Cat              int64\n",
       "Reco_Policy_Premium        float64\n",
       "Region_Code                  int64\n",
       "Response                   float64\n",
       "Upper_Age                    int64\n",
       "source                      object\n",
       "dtype: object"
      ]
     },
     "execution_count": 8,
     "metadata": {},
     "output_type": "execute_result"
    }
   ],
   "source": [
    "data.dtypes"
   ]
  },
  {
   "cell_type": "code",
   "execution_count": 9,
   "metadata": {},
   "outputs": [
    {
     "data": {
      "text/plain": [
       "Accomodation_Type              0\n",
       "City_Code                      0\n",
       "Health Indicator           16718\n",
       "Holding_Policy_Duration    28854\n",
       "Holding_Policy_Type        28854\n",
       "ID                             0\n",
       "Is_Spouse                      0\n",
       "Lower_Age                      0\n",
       "Reco_Insurance_Type            0\n",
       "Reco_Policy_Cat                0\n",
       "Reco_Policy_Premium            0\n",
       "Region_Code                    0\n",
       "Response                   21805\n",
       "Upper_Age                      0\n",
       "source                         0\n",
       "dtype: int64"
      ]
     },
     "execution_count": 9,
     "metadata": {},
     "output_type": "execute_result"
    }
   ],
   "source": [
    "data.isnull().sum()"
   ]
  },
  {
   "cell_type": "markdown",
   "metadata": {},
   "source": [
    "Note that the 'Response' is the target variable and missing values are ones in the test set. So we need not worry about it. But we’ll impute the missing values in 'Health Indicator', 'Holding_Policy_Duration' and 'Holding_Policy_Type' in the data cleaning section."
   ]
  },
  {
   "cell_type": "code",
   "execution_count": 10,
   "metadata": {},
   "outputs": [
    {
     "data": {
      "text/plain": [
       "Accomodation_Type              2\n",
       "City_Code                     36\n",
       "Health Indicator               9\n",
       "Holding_Policy_Duration       15\n",
       "Holding_Policy_Type            4\n",
       "ID                         72687\n",
       "Is_Spouse                      2\n",
       "Lower_Age                     60\n",
       "Reco_Insurance_Type            2\n",
       "Reco_Policy_Cat               22\n",
       "Reco_Policy_Premium         7685\n",
       "Region_Code                 5538\n",
       "Response                       2\n",
       "Upper_Age                     58\n",
       "source                         2\n",
       "dtype: int64"
      ]
     },
     "execution_count": 10,
     "metadata": {},
     "output_type": "execute_result"
    }
   ],
   "source": [
    "data.nunique()"
   ]
  },
  {
   "cell_type": "code",
   "execution_count": 11,
   "metadata": {},
   "outputs": [
    {
     "data": {
      "text/plain": [
       "X1    18624\n",
       "X2    14848\n",
       "X3     9608\n",
       "X4     8185\n",
       "X5     2408\n",
       "X6     1794\n",
       "X7      292\n",
       "X8      119\n",
       "X9       91\n",
       "Name: Health Indicator, dtype: int64"
      ]
     },
     "execution_count": 11,
     "metadata": {},
     "output_type": "execute_result"
    }
   ],
   "source": [
    "data['Health Indicator'].value_counts()"
   ]
  },
  {
   "cell_type": "code",
   "execution_count": 12,
   "metadata": {},
   "outputs": [],
   "source": [
    "data['Health Indicator'].replace(to_replace='X1', value='0', regex=True, inplace=True)\n",
    "data['Health Indicator'].replace(to_replace='X2', value='1', regex=True, inplace=True)\n",
    "data['Health Indicator'].replace(to_replace='X3', value='2', regex=True, inplace=True)\n",
    "data['Health Indicator'].replace(to_replace='X4', value='3', regex=True, inplace=True)\n",
    "data['Health Indicator'].replace(to_replace='X5', value='4', regex=True, inplace=True)\n",
    "data['Health Indicator'].replace(to_replace='X6', value='5', regex=True, inplace=True)\n",
    "data['Health Indicator'].replace(to_replace='X7', value='6', regex=True, inplace=True)\n",
    "data['Health Indicator'].replace(to_replace='X8', value='7', regex=True, inplace=True)\n",
    "data['Health Indicator'].replace(to_replace='X9', value='8', regex=True, inplace=True)"
   ]
  },
  {
   "cell_type": "code",
   "execution_count": 13,
   "metadata": {},
   "outputs": [
    {
     "data": {
      "text/plain": [
       "1.0     6390\n",
       "14+     6227\n",
       "2.0     6032\n",
       "3.0     5192\n",
       "4.0     3976\n",
       "5.0     3354\n",
       "6.0     2797\n",
       "7.0     2309\n",
       "8.0     1885\n",
       "9.0     1607\n",
       "10.0    1146\n",
       "11.0     800\n",
       "13.0     732\n",
       "12.0     709\n",
       "14.0     677\n",
       "Name: Holding_Policy_Duration, dtype: int64"
      ]
     },
     "execution_count": 13,
     "metadata": {},
     "output_type": "execute_result"
    }
   ],
   "source": [
    "data['Holding_Policy_Duration'].value_counts()"
   ]
  },
  {
   "cell_type": "code",
   "execution_count": 14,
   "metadata": {},
   "outputs": [],
   "source": [
    "data['Holding_Policy_Duration'] = data['Holding_Policy_Duration'].replace('14+','14.0')"
   ]
  },
  {
   "cell_type": "code",
   "execution_count": 15,
   "metadata": {},
   "outputs": [
    {
     "data": {
      "text/plain": [
       "No     60687\n",
       "Yes    12000\n",
       "Name: Is_Spouse, dtype: int64"
      ]
     },
     "execution_count": 15,
     "metadata": {},
     "output_type": "execute_result"
    }
   ],
   "source": [
    "data['Is_Spouse'].value_counts()"
   ]
  },
  {
   "cell_type": "code",
   "execution_count": 16,
   "metadata": {},
   "outputs": [],
   "source": [
    "data['Is_Spouse'] = data['Is_Spouse'].replace('Yes',1)\n",
    "data['Is_Spouse'] = data['Is_Spouse'].replace('No',0)"
   ]
  },
  {
   "cell_type": "code",
   "execution_count": 17,
   "metadata": {},
   "outputs": [
    {
     "data": {
      "text/html": [
       "<div>\n",
       "<style scoped>\n",
       "    .dataframe tbody tr th:only-of-type {\n",
       "        vertical-align: middle;\n",
       "    }\n",
       "\n",
       "    .dataframe tbody tr th {\n",
       "        vertical-align: top;\n",
       "    }\n",
       "\n",
       "    .dataframe thead th {\n",
       "        text-align: right;\n",
       "    }\n",
       "</style>\n",
       "<table border=\"1\" class=\"dataframe\">\n",
       "  <thead>\n",
       "    <tr style=\"text-align: right;\">\n",
       "      <th></th>\n",
       "      <th>Accomodation_Type</th>\n",
       "      <th>City_Code</th>\n",
       "      <th>Health Indicator</th>\n",
       "      <th>Holding_Policy_Duration</th>\n",
       "      <th>Holding_Policy_Type</th>\n",
       "      <th>ID</th>\n",
       "      <th>Is_Spouse</th>\n",
       "      <th>Lower_Age</th>\n",
       "      <th>Reco_Insurance_Type</th>\n",
       "      <th>Reco_Policy_Cat</th>\n",
       "      <th>Reco_Policy_Premium</th>\n",
       "      <th>Region_Code</th>\n",
       "      <th>Response</th>\n",
       "      <th>Upper_Age</th>\n",
       "      <th>source</th>\n",
       "    </tr>\n",
       "  </thead>\n",
       "  <tbody>\n",
       "    <tr>\n",
       "      <td>0</td>\n",
       "      <td>Rented</td>\n",
       "      <td>C3</td>\n",
       "      <td>0</td>\n",
       "      <td>14.0</td>\n",
       "      <td>3.0</td>\n",
       "      <td>1</td>\n",
       "      <td>0</td>\n",
       "      <td>36</td>\n",
       "      <td>Individual</td>\n",
       "      <td>22</td>\n",
       "      <td>11628.0</td>\n",
       "      <td>3213</td>\n",
       "      <td>0.0</td>\n",
       "      <td>36</td>\n",
       "      <td>train</td>\n",
       "    </tr>\n",
       "    <tr>\n",
       "      <td>1</td>\n",
       "      <td>Owned</td>\n",
       "      <td>C5</td>\n",
       "      <td>1</td>\n",
       "      <td>NaN</td>\n",
       "      <td>NaN</td>\n",
       "      <td>2</td>\n",
       "      <td>0</td>\n",
       "      <td>22</td>\n",
       "      <td>Joint</td>\n",
       "      <td>22</td>\n",
       "      <td>30510.0</td>\n",
       "      <td>1117</td>\n",
       "      <td>0.0</td>\n",
       "      <td>75</td>\n",
       "      <td>train</td>\n",
       "    </tr>\n",
       "    <tr>\n",
       "      <td>2</td>\n",
       "      <td>Owned</td>\n",
       "      <td>C5</td>\n",
       "      <td>NaN</td>\n",
       "      <td>1.0</td>\n",
       "      <td>1.0</td>\n",
       "      <td>3</td>\n",
       "      <td>0</td>\n",
       "      <td>32</td>\n",
       "      <td>Individual</td>\n",
       "      <td>19</td>\n",
       "      <td>7450.0</td>\n",
       "      <td>3732</td>\n",
       "      <td>1.0</td>\n",
       "      <td>32</td>\n",
       "      <td>train</td>\n",
       "    </tr>\n",
       "    <tr>\n",
       "      <td>3</td>\n",
       "      <td>Owned</td>\n",
       "      <td>C24</td>\n",
       "      <td>0</td>\n",
       "      <td>14.0</td>\n",
       "      <td>3.0</td>\n",
       "      <td>4</td>\n",
       "      <td>0</td>\n",
       "      <td>48</td>\n",
       "      <td>Joint</td>\n",
       "      <td>19</td>\n",
       "      <td>17780.0</td>\n",
       "      <td>4378</td>\n",
       "      <td>0.0</td>\n",
       "      <td>52</td>\n",
       "      <td>train</td>\n",
       "    </tr>\n",
       "    <tr>\n",
       "      <td>4</td>\n",
       "      <td>Rented</td>\n",
       "      <td>C8</td>\n",
       "      <td>1</td>\n",
       "      <td>3.0</td>\n",
       "      <td>1.0</td>\n",
       "      <td>5</td>\n",
       "      <td>0</td>\n",
       "      <td>44</td>\n",
       "      <td>Individual</td>\n",
       "      <td>16</td>\n",
       "      <td>10404.0</td>\n",
       "      <td>2190</td>\n",
       "      <td>0.0</td>\n",
       "      <td>44</td>\n",
       "      <td>train</td>\n",
       "    </tr>\n",
       "  </tbody>\n",
       "</table>\n",
       "</div>"
      ],
      "text/plain": [
       "  Accomodation_Type City_Code Health Indicator Holding_Policy_Duration  \\\n",
       "0            Rented        C3                0                    14.0   \n",
       "1             Owned        C5                1                     NaN   \n",
       "2             Owned        C5              NaN                     1.0   \n",
       "3             Owned       C24                0                    14.0   \n",
       "4            Rented        C8                1                     3.0   \n",
       "\n",
       "   Holding_Policy_Type  ID  Is_Spouse  Lower_Age Reco_Insurance_Type  \\\n",
       "0                  3.0   1          0         36          Individual   \n",
       "1                  NaN   2          0         22               Joint   \n",
       "2                  1.0   3          0         32          Individual   \n",
       "3                  3.0   4          0         48               Joint   \n",
       "4                  1.0   5          0         44          Individual   \n",
       "\n",
       "   Reco_Policy_Cat  Reco_Policy_Premium  Region_Code  Response  Upper_Age  \\\n",
       "0               22              11628.0         3213       0.0         36   \n",
       "1               22              30510.0         1117       0.0         75   \n",
       "2               19               7450.0         3732       1.0         32   \n",
       "3               19              17780.0         4378       0.0         52   \n",
       "4               16              10404.0         2190       0.0         44   \n",
       "\n",
       "  source  \n",
       "0  train  \n",
       "1  train  \n",
       "2  train  \n",
       "3  train  \n",
       "4  train  "
      ]
     },
     "execution_count": 17,
     "metadata": {},
     "output_type": "execute_result"
    }
   ],
   "source": [
    "data.head()"
   ]
  },
  {
   "cell_type": "code",
   "execution_count": null,
   "metadata": {},
   "outputs": [],
   "source": []
  },
  {
   "cell_type": "markdown",
   "metadata": {},
   "source": [
    "## data cleaning"
   ]
  },
  {
   "cell_type": "code",
   "execution_count": 18,
   "metadata": {},
   "outputs": [],
   "source": [
    "def na_randomfill(series):\n",
    "    na_mask = pd.isnull(series)   # boolean mask for null values\n",
    "    n_null = na_mask.sum()        # number of nulls in the Series\n",
    "    \n",
    "    if n_null == 0:\n",
    "        return series             # if there are no nulls, no need to resample\n",
    "    \n",
    "    # Randomly sample the non-null values from our series\n",
    "    #  only sample this Series as many times as we have nulls \n",
    "    fill_values = series[~na_mask].sample(n=n_null, replace=True, random_state=0)\n",
    "\n",
    "    # This ensures our new values will replace NaNs in the correct locations\n",
    "    fill_values.index = series.index[na_mask]\n",
    "    \n",
    "    return series.fillna(fill_values) "
   ]
  },
  {
   "cell_type": "markdown",
   "metadata": {},
   "source": [
    "filling null values with randomly same column values"
   ]
  },
  {
   "cell_type": "code",
   "execution_count": 19,
   "metadata": {},
   "outputs": [],
   "source": [
    "data['Health Indicator'] = na_randomfill(data['Health Indicator'])\n",
    "data['Holding_Policy_Duration'] = na_randomfill(data['Holding_Policy_Duration'])\n",
    "data['Holding_Policy_Type'] = na_randomfill(data['Holding_Policy_Type'])"
   ]
  },
  {
   "cell_type": "code",
   "execution_count": 20,
   "metadata": {},
   "outputs": [
    {
     "data": {
      "text/plain": [
       "Accomodation_Type              0\n",
       "City_Code                      0\n",
       "Health Indicator               0\n",
       "Holding_Policy_Duration        0\n",
       "Holding_Policy_Type            0\n",
       "ID                             0\n",
       "Is_Spouse                      0\n",
       "Lower_Age                      0\n",
       "Reco_Insurance_Type            0\n",
       "Reco_Policy_Cat                0\n",
       "Reco_Policy_Premium            0\n",
       "Region_Code                    0\n",
       "Response                   21805\n",
       "Upper_Age                      0\n",
       "source                         0\n",
       "dtype: int64"
      ]
     },
     "execution_count": 20,
     "metadata": {},
     "output_type": "execute_result"
    }
   ],
   "source": [
    "data.isnull().sum()"
   ]
  },
  {
   "cell_type": "code",
   "execution_count": 21,
   "metadata": {},
   "outputs": [
    {
     "data": {
      "image/png": "[encoded data removed]",
      "text/plain": [
       "<Figure size 1728x432 with 3 Axes>"
      ]
     },
     "metadata": {
      "needs_background": "light"
     },
     "output_type": "display_data"
    }
   ],
   "source": [
    "plt.subplot(131)\n",
    "data['Accomodation_Type'].value_counts().plot.bar(figsize=(24,6),title='Accomodation_Type')\n",
    "\n",
    "plt.subplot(132)\n",
    "data['Is_Spouse'].value_counts().plot.bar(title='Is_Spouse')\n",
    "\n",
    "plt.subplot(133)\n",
    "data['Reco_Insurance_Type'].value_counts().plot.bar(title='Reco_Insurance_Type')\n",
    "\n",
    "plt.show()"
   ]
  },
  {
   "cell_type": "code",
   "execution_count": 22,
   "metadata": {},
   "outputs": [
    {
     "data": {
      "text/plain": [
       "<matplotlib.axes._subplots.AxesSubplot at 0x21aa23adc48>"
      ]
     },
     "execution_count": 22,
     "metadata": {},
     "output_type": "execute_result"
    },
    {
     "data": {
      "image/png": "[encoded data removed]",
      "text/plain": [
       "<Figure size 432x288 with 1 Axes>"
      ]
     },
     "metadata": {
      "needs_background": "light"
     },
     "output_type": "display_data"
    }
   ],
   "source": [
    "sns.countplot(hue='Response',x='Holding_Policy_Type',data=data)"
   ]
  },
  {
   "cell_type": "code",
   "execution_count": 23,
   "metadata": {},
   "outputs": [
    {
     "data": {
      "image/png": "[encoded data removed]",
      "text/plain": [
       "<Figure size 432x288 with 2 Axes>"
      ]
     },
     "metadata": {
      "needs_background": "light"
     },
     "output_type": "display_data"
    }
   ],
   "source": [
    "plt.subplot(121)\n",
    "sns.countplot(x='Is_Spouse',hue='Response',data=data)\n",
    "\n",
    "plt.subplot(122)\n",
    "sns.countplot(x='Reco_Insurance_Type',hue='Response',data=data)\n",
    "\n",
    "plt.show()"
   ]
  },
  {
   "cell_type": "code",
   "execution_count": 24,
   "metadata": {},
   "outputs": [
    {
     "data": {
      "image/png": "[encoded data removed]",
      "text/plain": [
       "<Figure size 432x288 with 2 Axes>"
      ]
     },
     "metadata": {
      "needs_background": "light"
     },
     "output_type": "display_data"
    }
   ],
   "source": [
    "plt.subplot(121)\n",
    "sns.countplot(x='Accomodation_Type',hue='Response',data=data)\n",
    "\n",
    "plt.subplot(122)\n",
    "sns.countplot(x='Health Indicator',hue='Response',data=data)\n",
    "\n",
    "plt.show()"
   ]
  },
  {
   "cell_type": "markdown",
   "metadata": {},
   "source": [
    "replacing values(5,6,7,8) with value(4).as you can see 5,6,7,8 didn't have much impact on response."
   ]
  },
  {
   "cell_type": "code",
   "execution_count": 25,
   "metadata": {},
   "outputs": [],
   "source": [
    "data['Health Indicator'].replace('7','4',inplace=True)\n",
    "data['Health Indicator'].replace('8','4',inplace=True)\n",
    "data['Health Indicator'].replace('5','4',inplace=True)\n",
    "data['Health Indicator'].replace('6','4',inplace=True)"
   ]
  },
  {
   "cell_type": "code",
   "execution_count": 26,
   "metadata": {},
   "outputs": [
    {
     "data": {
      "text/plain": [
       "<matplotlib.axes._subplots.AxesSubplot at 0x21aa3916448>"
      ]
     },
     "execution_count": 26,
     "metadata": {},
     "output_type": "execute_result"
    },
    {
     "data": {
      "image/png": "[encoded data removed]",
      "text/plain": [
       "<Figure size 432x288 with 1 Axes>"
      ]
     },
     "metadata": {
      "needs_background": "light"
     },
     "output_type": "display_data"
    }
   ],
   "source": [
    "sns.countplot(x='Health Indicator',hue='Holding_Policy_Type',data=data)"
   ]
  },
  {
   "cell_type": "code",
   "execution_count": 27,
   "metadata": {},
   "outputs": [
    {
     "data": {
      "text/plain": [
       "<matplotlib.axes._subplots.AxesSubplot at 0x21aa39be0c8>"
      ]
     },
     "execution_count": 27,
     "metadata": {},
     "output_type": "execute_result"
    },
    {
     "data": {
      "image/png": "[encoded data removed]",
      "text/plain": [
       "<Figure size 432x288 with 1 Axes>"
      ]
     },
     "metadata": {
      "needs_background": "light"
     },
     "output_type": "display_data"
    }
   ],
   "source": [
    "sns.countplot(x='Health Indicator',hue='Is_Spouse',data=data)"
   ]
  },
  {
   "cell_type": "code",
   "execution_count": 28,
   "metadata": {},
   "outputs": [
    {
     "data": {
      "text/plain": [
       "<seaborn.axisgrid.FacetGrid at 0x21aa39b65c8>"
      ]
     },
     "execution_count": 28,
     "metadata": {},
     "output_type": "execute_result"
    },
    {
     "data": {
      "image/png": "[encoded data removed]",
      "text/plain": [
       "<Figure size 540x360 with 1 Axes>"
      ]
     },
     "metadata": {
      "needs_background": "light"
     },
     "output_type": "display_data"
    }
   ],
   "source": [
    "g = sns.factorplot(\"City_Code\", data=data, aspect=1.5, kind=\"count\", color=\"b\")\n",
    "g.set_xticklabels(rotation=75)"
   ]
  },
  {
   "cell_type": "code",
   "execution_count": 29,
   "metadata": {},
   "outputs": [
    {
     "data": {
      "text/html": [
       "<div>\n",
       "<style scoped>\n",
       "    .dataframe tbody tr th:only-of-type {\n",
       "        vertical-align: middle;\n",
       "    }\n",
       "\n",
       "    .dataframe tbody tr th {\n",
       "        vertical-align: top;\n",
       "    }\n",
       "\n",
       "    .dataframe thead th {\n",
       "        text-align: right;\n",
       "    }\n",
       "</style>\n",
       "<table border=\"1\" class=\"dataframe\">\n",
       "  <thead>\n",
       "    <tr style=\"text-align: right;\">\n",
       "      <th></th>\n",
       "      <th>Holding_Policy_Type</th>\n",
       "      <th>ID</th>\n",
       "      <th>Is_Spouse</th>\n",
       "      <th>Lower_Age</th>\n",
       "      <th>Reco_Policy_Cat</th>\n",
       "      <th>Reco_Policy_Premium</th>\n",
       "      <th>Region_Code</th>\n",
       "      <th>Response</th>\n",
       "      <th>Upper_Age</th>\n",
       "    </tr>\n",
       "  </thead>\n",
       "  <tbody>\n",
       "    <tr>\n",
       "      <td>Holding_Policy_Type</td>\n",
       "      <td>1.000000</td>\n",
       "      <td>0.006011</td>\n",
       "      <td>0.063155</td>\n",
       "      <td>0.068833</td>\n",
       "      <td>0.046751</td>\n",
       "      <td>0.074336</td>\n",
       "      <td>0.002804</td>\n",
       "      <td>0.009312</td>\n",
       "      <td>0.079849</td>\n",
       "    </tr>\n",
       "    <tr>\n",
       "      <td>ID</td>\n",
       "      <td>0.006011</td>\n",
       "      <td>1.000000</td>\n",
       "      <td>-0.003041</td>\n",
       "      <td>0.000758</td>\n",
       "      <td>0.000315</td>\n",
       "      <td>0.001245</td>\n",
       "      <td>0.004074</td>\n",
       "      <td>0.005159</td>\n",
       "      <td>0.000066</td>\n",
       "    </tr>\n",
       "    <tr>\n",
       "      <td>Is_Spouse</td>\n",
       "      <td>0.063155</td>\n",
       "      <td>-0.003041</td>\n",
       "      <td>1.000000</td>\n",
       "      <td>0.058470</td>\n",
       "      <td>0.021489</td>\n",
       "      <td>0.510928</td>\n",
       "      <td>-0.002264</td>\n",
       "      <td>0.003859</td>\n",
       "      <td>0.198134</td>\n",
       "    </tr>\n",
       "    <tr>\n",
       "      <td>Lower_Age</td>\n",
       "      <td>0.068833</td>\n",
       "      <td>0.000758</td>\n",
       "      <td>0.058470</td>\n",
       "      <td>1.000000</td>\n",
       "      <td>0.020116</td>\n",
       "      <td>0.613374</td>\n",
       "      <td>-0.004750</td>\n",
       "      <td>-0.002099</td>\n",
       "      <td>0.921175</td>\n",
       "    </tr>\n",
       "    <tr>\n",
       "      <td>Reco_Policy_Cat</td>\n",
       "      <td>0.046751</td>\n",
       "      <td>0.000315</td>\n",
       "      <td>0.021489</td>\n",
       "      <td>0.020116</td>\n",
       "      <td>1.000000</td>\n",
       "      <td>0.060442</td>\n",
       "      <td>-0.062533</td>\n",
       "      <td>0.114321</td>\n",
       "      <td>0.024325</td>\n",
       "    </tr>\n",
       "    <tr>\n",
       "      <td>Reco_Policy_Premium</td>\n",
       "      <td>0.074336</td>\n",
       "      <td>0.001245</td>\n",
       "      <td>0.510928</td>\n",
       "      <td>0.613374</td>\n",
       "      <td>0.060442</td>\n",
       "      <td>1.000000</td>\n",
       "      <td>-0.013772</td>\n",
       "      <td>0.007943</td>\n",
       "      <td>0.791562</td>\n",
       "    </tr>\n",
       "    <tr>\n",
       "      <td>Region_Code</td>\n",
       "      <td>0.002804</td>\n",
       "      <td>0.004074</td>\n",
       "      <td>-0.002264</td>\n",
       "      <td>-0.004750</td>\n",
       "      <td>-0.062533</td>\n",
       "      <td>-0.013772</td>\n",
       "      <td>1.000000</td>\n",
       "      <td>0.001121</td>\n",
       "      <td>-0.006170</td>\n",
       "    </tr>\n",
       "    <tr>\n",
       "      <td>Response</td>\n",
       "      <td>0.009312</td>\n",
       "      <td>0.005159</td>\n",
       "      <td>0.003859</td>\n",
       "      <td>-0.002099</td>\n",
       "      <td>0.114321</td>\n",
       "      <td>0.007943</td>\n",
       "      <td>0.001121</td>\n",
       "      <td>1.000000</td>\n",
       "      <td>0.002772</td>\n",
       "    </tr>\n",
       "    <tr>\n",
       "      <td>Upper_Age</td>\n",
       "      <td>0.079849</td>\n",
       "      <td>0.000066</td>\n",
       "      <td>0.198134</td>\n",
       "      <td>0.921175</td>\n",
       "      <td>0.024325</td>\n",
       "      <td>0.791562</td>\n",
       "      <td>-0.006170</td>\n",
       "      <td>0.002772</td>\n",
       "      <td>1.000000</td>\n",
       "    </tr>\n",
       "  </tbody>\n",
       "</table>\n",
       "</div>"
      ],
      "text/plain": [
       "                     Holding_Policy_Type        ID  Is_Spouse  Lower_Age  \\\n",
       "Holding_Policy_Type             1.000000  0.006011   0.063155   0.068833   \n",
       "ID                              0.006011  1.000000  -0.003041   0.000758   \n",
       "Is_Spouse                       0.063155 -0.003041   1.000000   0.058470   \n",
       "Lower_Age                       0.068833  0.000758   0.058470   1.000000   \n",
       "Reco_Policy_Cat                 0.046751  0.000315   0.021489   0.020116   \n",
       "Reco_Policy_Premium             0.074336  0.001245   0.510928   0.613374   \n",
       "Region_Code                     0.002804  0.004074  -0.002264  -0.004750   \n",
       "Response                        0.009312  0.005159   0.003859  -0.002099   \n",
       "Upper_Age                       0.079849  0.000066   0.198134   0.921175   \n",
       "\n",
       "                     Reco_Policy_Cat  Reco_Policy_Premium  Region_Code  \\\n",
       "Holding_Policy_Type         0.046751             0.074336     0.002804   \n",
       "ID                          0.000315             0.001245     0.004074   \n",
       "Is_Spouse                   0.021489             0.510928    -0.002264   \n",
       "Lower_Age                   0.020116             0.613374    -0.004750   \n",
       "Reco_Policy_Cat             1.000000             0.060442    -0.062533   \n",
       "Reco_Policy_Premium         0.060442             1.000000    -0.013772   \n",
       "Region_Code                -0.062533            -0.013772     1.000000   \n",
       "Response                    0.114321             0.007943     0.001121   \n",
       "Upper_Age                   0.024325             0.791562    -0.006170   \n",
       "\n",
       "                     Response  Upper_Age  \n",
       "Holding_Policy_Type  0.009312   0.079849  \n",
       "ID                   0.005159   0.000066  \n",
       "Is_Spouse            0.003859   0.198134  \n",
       "Lower_Age           -0.002099   0.921175  \n",
       "Reco_Policy_Cat      0.114321   0.024325  \n",
       "Reco_Policy_Premium  0.007943   0.791562  \n",
       "Region_Code          0.001121  -0.006170  \n",
       "Response             1.000000   0.002772  \n",
       "Upper_Age            0.002772   1.000000  "
      ]
     },
     "execution_count": 29,
     "metadata": {},
     "output_type": "execute_result"
    }
   ],
   "source": [
    "data.corr()"
   ]
  },
  {
   "cell_type": "code",
   "execution_count": 30,
   "metadata": {},
   "outputs": [
    {
     "data": {
      "text/plain": [
       "<matplotlib.axes._subplots.AxesSubplot at 0x21aa3884dc8>"
      ]
     },
     "execution_count": 30,
     "metadata": {},
     "output_type": "execute_result"
    },
    {
     "data": {
      "image/png": "[encoded data removed]",
      "text/plain": [
       "<Figure size 432x288 with 2 Axes>"
      ]
     },
     "metadata": {
      "needs_background": "light"
     },
     "output_type": "display_data"
    }
   ],
   "source": [
    "sns.heatmap(data.corr(),cmap=\"YlGnBu\")"
   ]
  },
  {
   "cell_type": "markdown",
   "metadata": {},
   "source": [
    "Let's check the distribution of Reco_Policy_Premium"
   ]
  },
  {
   "cell_type": "code",
   "execution_count": 31,
   "metadata": {},
   "outputs": [
    {
     "data": {
      "text/plain": [
       "<matplotlib.axes._subplots.AxesSubplot at 0x21aa38141c8>"
      ]
     },
     "execution_count": 31,
     "metadata": {},
     "output_type": "execute_result"
    },
    {
     "data": {
      "image/png": "[encoded data removed]",
      "text/plain": [
       "<Figure size 432x288 with 1 Axes>"
      ]
     },
     "metadata": {
      "needs_background": "light"
     },
     "output_type": "display_data"
    }
   ],
   "source": [
    "sns.distplot(data['Reco_Policy_Premium'])"
   ]
  },
  {
   "cell_type": "markdown",
   "metadata": {},
   "source": [
    "we can see it shifted towards left, i.e.,the distribution is right skewed. so, let's take the log transfomation to make the distribution normal."
   ]
  },
  {
   "cell_type": "code",
   "execution_count": 32,
   "metadata": {},
   "outputs": [
    {
     "data": {
      "text/plain": [
       "<matplotlib.axes._subplots.AxesSubplot at 0x21aa24d7148>"
      ]
     },
     "execution_count": 32,
     "metadata": {},
     "output_type": "execute_result"
    },
    {
     "data": {
      "image/png": "[encoded data removed]",
      "text/plain": [
       "<Figure size 432x288 with 1 Axes>"
      ]
     },
     "metadata": {
      "needs_background": "light"
     },
     "output_type": "display_data"
    }
   ],
   "source": [
    "data['Reco_Policy_Premium_Log'] = np.log(data['Reco_Policy_Premium'])\n",
    "sns.distplot(data['Reco_Policy_Premium_Log'])"
   ]
  },
  {
   "cell_type": "markdown",
   "metadata": {},
   "source": [
    "Now the distribution looks much closer to normal and effect of extreme values has been significantly subsided. "
   ]
  },
  {
   "cell_type": "code",
   "execution_count": 33,
   "metadata": {},
   "outputs": [
    {
     "data": {
      "text/plain": [
       "Accomodation_Type           object\n",
       "City_Code                   object\n",
       "Health Indicator            object\n",
       "Holding_Policy_Duration     object\n",
       "Holding_Policy_Type        float64\n",
       "ID                           int64\n",
       "Is_Spouse                    int64\n",
       "Lower_Age                    int64\n",
       "Reco_Insurance_Type         object\n",
       "Reco_Policy_Cat              int64\n",
       "Reco_Policy_Premium        float64\n",
       "Region_Code                  int64\n",
       "Response                   float64\n",
       "Upper_Age                    int64\n",
       "source                      object\n",
       "Reco_Policy_Premium_Log    float64\n",
       "dtype: object"
      ]
     },
     "execution_count": 33,
     "metadata": {},
     "output_type": "execute_result"
    }
   ],
   "source": [
    "data.dtypes"
   ]
  },
  {
   "cell_type": "code",
   "execution_count": 34,
   "metadata": {},
   "outputs": [],
   "source": [
    "#One Hot InCoding:\n",
    "data = pd.get_dummies(data, columns=['City_Code','Accomodation_Type','Health Indicator','Holding_Policy_Type','Holding_Policy_Duration',\n",
    "          'Reco_Insurance_Type'])"
   ]
  },
  {
   "cell_type": "code",
   "execution_count": 35,
   "metadata": {},
   "outputs": [
    {
     "data": {
      "text/plain": [
       "(72687, 73)"
      ]
     },
     "execution_count": 35,
     "metadata": {},
     "output_type": "execute_result"
    }
   ],
   "source": [
    "data.shape"
   ]
  },
  {
   "cell_type": "markdown",
   "metadata": {},
   "source": [
    "Let's convert data back into train and test data sets. Its generally a good idea to export both of these as modified data sets so that they can be re-used for multiple sessions. This can be achieved using following code:"
   ]
  },
  {
   "cell_type": "code",
   "execution_count": 36,
   "metadata": {},
   "outputs": [],
   "source": [
    "\n",
    "train = data.loc[data['source']==\"train\"]\n",
    "test = data.loc[data['source']==\"test\"]\n",
    "\n",
    "#Drop unnecessary columns:\n",
    "test.drop(['Response','source'],axis=1,inplace=True)\n",
    "train.drop(['source','ID'],axis=1,inplace=True)\n",
    "\n",
    "#Export files as modified versions:\n",
    "train.to_csv(\"train_modified.csv\",index=False)\n",
    "test.to_csv(\"test_modified.csv\",index=False)"
   ]
  },
  {
   "cell_type": "markdown",
   "metadata": {},
   "source": [
    "## Model Building"
   ]
  },
  {
   "cell_type": "markdown",
   "metadata": {},
   "source": [
    "I would like to define a generic function which takes the algorithm and data as input and makes the model, performs roc_auc_score and generates submission."
   ]
  },
  {
   "cell_type": "code",
   "execution_count": 37,
   "metadata": {},
   "outputs": [],
   "source": [
    "#define target and ID column\n",
    "target = 'Response'\n",
    "IDcol = ['ID','Upper_Age']\n",
    "\n",
    "from sklearn.metrics import roc_auc_score\n",
    "from sklearn import metrics\n",
    "def modelfit(alg, dtrain, dtest, pred, target, IDcol, filename):\n",
    "    #fit the algorithm on the data\n",
    "    alg.fit(dtrain[pred], dtrain[target])\n",
    "    \n",
    "    #predict training set\n",
    "    dtrain_pred = alg.predict_proba(dtrain[pred])[:, 1]\n",
    "    print(\"auc_score : %.4g\" % roc_auc_score(dtrain[target].values, dtrain_pred))\n",
    "    #Predict on testing data:\n",
    "    dtest[target] = alg.predict_proba(dtest[pred])[:, 1]\n",
    "    \n",
    "    \n",
    "    \n",
    "    #Export submission file:\n",
    "    IDcol.append(target)\n",
    "    submission = pd.DataFrame({ x: dtest[x] for x in IDcol})\n",
    "    del submission['Upper_Age']\n",
    "    submission.to_csv(filename, index=False)\n",
    "    \n",
    "    "
   ]
  },
  {
   "cell_type": "code",
   "execution_count": 41,
   "metadata": {},
   "outputs": [
    {
     "name": "stdout",
     "output_type": "stream",
     "text": [
      "auc_score : 0.7867\n"
     ]
    }
   ],
   "source": [
    "from lightgbm import LGBMClassifier\n",
    "pred = [x for x in train.columns if x not in [target]+IDcol]\n",
    "alg4 = LGBMClassifier(learning_rate = 0.01,\n",
    "                      max_depth = 10,\n",
    "                      num_leaves = 80,\n",
    "                      n_estimators = 650)\n",
    "modelfit(alg4, train, test, pred, target, IDcol, 'lgb1.csv')\n"
   ]
  },
  {
   "cell_type": "markdown",
   "metadata": {},
   "source": [
    "AV private Leaderboard score:0.6675\n",
    "\n",
    "AV final rank:334"
   ]
  },
  {
   "cell_type": "code",
   "execution_count": null,
   "metadata": {},
   "outputs": [],
   "source": []
  }
 ],
 "metadata": {
  "kernelspec": {
   "display_name": "Python 3",
   "language": "python",
   "name": "python3"
  },
  "language_info": {
   "codemirror_mode": {
    "name": "ipython",
    "version": 3
   },
   "file_extension": ".py",
   "mimetype": "text/x-python",
   "name": "python",
   "nbconvert_exporter": "python",
   "pygments_lexer": "ipython3",
   "version": "3.7.4"
  }
 },
 "nbformat": 4,
 "nbformat_minor": 4
}
